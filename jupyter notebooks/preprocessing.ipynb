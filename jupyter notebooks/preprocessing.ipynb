{
 "cells": [
  {
   "cell_type": "markdown",
   "metadata": {},
   "source": [
    "# Preprocessing"
   ]
  },
  {
   "cell_type": "markdown",
   "metadata": {},
   "source": [
    "## Histogram equalization"
   ]
  },
  {
   "cell_type": "code",
   "execution_count": 27,
   "metadata": {},
   "outputs": [],
   "source": [
    "import cv2 as cv\n",
    "\n",
    "def histeq(data):\n",
    "    for slice_index in range(data.shape[2]):\n",
    "        data[:, :, slice_index] = cv.equalizeHist(data[:, :, slice_index])\n",
    "    return data"
   ]
  },
  {
   "cell_type": "code",
   "execution_count": null,
   "metadata": {},
   "outputs": [],
   "source": []
  },
  {
   "cell_type": "markdown",
   "metadata": {},
   "source": [
    "## Skull stripping"
   ]
  },
  {
   "cell_type": "code",
   "execution_count": 28,
   "metadata": {},
   "outputs": [
    {
     "name": "stdout",
     "output_type": "stream",
     "text": [
      "WARNING:tensorflow:From C:\\Users\\StarDust\\Anaconda3\\lib\\site-packages\\tensorflow_core\\python\\compat\\v2_compat.py:65: disable_resource_variables (from tensorflow.python.ops.variable_scope) is deprecated and will be removed in a future version.\n",
      "Instructions for updating:\n",
      "non-resource variables are not supported in the long term\n"
     ]
    }
   ],
   "source": [
    "import nibabel as nib\n",
    "from deepbrain import Extractor\n",
    "\n",
    "def get_data_with_skull_scraping(path, PROB=0.5):\n",
    "    arr = nib.load(path).get_data()\n",
    "    ext = Extractor()\n",
    "    prob = ext.run(arr)\n",
    "    mask = prob > PROB\n",
    "    arr = arr * mask\n",
    "    return arr"
   ]
  },
  {
   "cell_type": "markdown",
   "metadata": {},
   "source": [
    "## Convert to Uint8"
   ]
  },
  {
   "cell_type": "code",
   "execution_count": 29,
   "metadata": {},
   "outputs": [],
   "source": [
    "def to_uint8(data):\n",
    "    data = data.astype(np.float)\n",
    "    data[data < 0] = 0\n",
    "    return ((data - data.min()) * 255.0 / data.max()).astype(np.uint8)"
   ]
  },
  {
   "cell_type": "markdown",
   "metadata": {},
   "source": [
    "## Bias field correction"
   ]
  },
  {
   "cell_type": "code",
   "execution_count": 30,
   "metadata": {},
   "outputs": [],
   "source": [
    "from __future__ import print_function\n",
    "\n",
    "import SimpleITK as sitk\n",
    "import sys\n",
    "import os\n",
    "\n",
    "def n4_bias_field_correction(input_image, outputImage=None,\n",
    "                          shrinkFactor=None, \n",
    "                          mask_image=None, \n",
    "                          numberOfIterations=None, \n",
    "                          number_of_fitting_levels=None):\n",
    "    \n",
    "    inputImage = sitk.ReadImage(input_image, sitk.sitkFloat32)\n",
    "    image = inputImage\n",
    "    \n",
    "    if mask_image is not None:\n",
    "         maskImage = sitk.ReadImage(mask_image, sitk.sitkUint8)\n",
    "    else:\n",
    "        maskImage = sitk.OtsuThreshold(inputImage, 0, 1, 200)\n",
    "    \n",
    "    if shrinkFactor is not None:\n",
    "        image = sitk.Shrink(inputImage,\n",
    "                             [shrinkFactor] * inputImage.GetDimension())\n",
    "        maskImage = sitk.Shrink(maskImage,\n",
    "                            [shrinkFactor] * inputImage.GetDimension())\n",
    "    \n",
    "    corrector = sitk.N4BiasFieldCorrectionImageFilter()\n",
    "    \n",
    "    numberFittingLevels = 4\n",
    "    \n",
    "    if number_of_fitting_levels is not None:\n",
    "        numberFittingLevels = number_of_fitting_levels\n",
    "    \n",
    "    if numberOfIterations is not None:\n",
    "        corrector.SetMaximumNumberOfIterations([numberOfIterations] * numberFittingLevels)\n",
    "    \n",
    "    corrected_image = corrector.Execute(image, maskImage)\n",
    "    \n",
    "    log_bias_field = corrector.GetLogBiasFieldAsImage(inputImage)\n",
    "    bias_field = inputImage / sitk.Exp( log_bias_field )\n",
    "    \n",
    "    if outputImage is not None:\n",
    "        sitk.WriteImage(corrected_image, outputImage)\n",
    "        \n",
    "       \n",
    "    #TODO: whi this error?\n",
    "    #RuntimeError: Exception thrown in SimpleITK Show: D:\\a\\1\\sitk\\Code\\IO\\src\\sitkShow.cxx:495:\n",
    "    #sitk::ERROR: No appropriate executable found.\n",
    "    #if (\"SITK_NOSHOW\" not in os.environ):\n",
    "    #    sitk.Show(corrected_image, \"N4 Corrected\")\n",
    "    \n",
    "    return corrected_image, bias_field, log_bias_field"
   ]
  },
  {
   "cell_type": "markdown",
   "metadata": {},
   "source": [
    "## Exhaustive image registration"
   ]
  },
  {
   "cell_type": "code",
   "execution_count": 33,
   "metadata": {},
   "outputs": [],
   "source": [
    "from __future__ import print_function\n",
    "from __future__ import division\n",
    "\n",
    "import SimpleITK as sitk\n",
    "import sys\n",
    "import os\n",
    "from math import pi\n",
    "\n",
    "def command_iteration(method):\n",
    "    if (method.GetOptimizerIteration() == 0):\n",
    "        print(\"Scales: \", method.GetOptimizerScales())\n",
    "    print(\"{0:3} = {1:7.5f} : {2}\".format(method.GetOptimizerIteration(),\n",
    "                                          method.GetMetricValue(),\n",
    "                                          method.GetOptimizerPosition()))\n",
    "    \n",
    "def exhautive_registration(fixedImageFilter, movingImageFile):\n",
    "    fixed = sitk.ReadImage(fixedImageFilter, sitk.sitkFloat32)\n",
    "    moving = sitk.ReadImage(movingImageFile, sitk.sitkFloat32)\n",
    "    \n",
    "    R = sitk.ImageRegistrationMethod()\n",
    "    R.SetMetricAsMattesMutualInformation(numberOfHistogramBins=50)\n",
    "    \n",
    "    sample_per_axis = 12\n",
    "    if fixed.GetDimension() == 2:\n",
    "        tx = sitk.Euler2DTransform()\n",
    "        # Set the number of samples (radius) in each dimension, with a\n",
    "        # default step size of 1.0\n",
    "        R.SetOptimizerAsExhaustive([sample_per_axis // 2, 0, 0])\n",
    "        # Utilize the scale to set the step size for each dimension\n",
    "        R.SetOptimizerScales([2.0 * pi / sample_per_axis, 1.0, 1.0])\n",
    "    elif fixed.GetDimension() == 3:\n",
    "        tx = sitk.Euler3DTransform()\n",
    "        R.SetOptimizerAsExhaustive([sample_per_axis // 2, sample_per_axis // 2,\n",
    "                                    sample_per_axis // 4, 0, 0, 0])\n",
    "        R.SetOptimizerScales(\n",
    "            [2.0 * pi / sample_per_axis, 2.0 * pi / sample_per_axis,\n",
    "             2.0 * pi / sample_per_axis, 1.0, 1.0, 1.0])\n",
    "        \n",
    "    \n",
    "    # Initialize the transform with a translation and the center of\n",
    "    # rotation from the moments of intensity.\n",
    "    tx = sitk.CenteredTransformInitializer(fixed, moving, tx)\n",
    "\n",
    "    R.SetInitialTransform(tx)\n",
    "\n",
    "    R.SetInterpolator(sitk.sitkLinear)\n",
    "\n",
    "    #R.AddCommand(sitk.sitkIterationEvent, lambda: command_iteration(R))\n",
    "\n",
    "    transform = R.Execute(fixed, moving)\n",
    "    \n",
    "    #print(\"-------\")\n",
    "    #print(outTx)\n",
    "    #print(\"Optimizer stop condition: {0}\"\n",
    "    #      .format(R.GetOptimizerStopConditionDescription()))\n",
    "    #print(\" Iteration: {0}\".format(R.GetOptimizerIteration()))\n",
    "    #print(\" Metric value: {0}\".format(R.GetMetricValue()))\n",
    "\n",
    "    #sitk.WriteTransform(outTx, sys.argv[3])\n",
    "    resampler = sitk.ResampleImageFilter()\n",
    "    resampler.SetReferenceImage(fixed)\n",
    "    resampler.SetInterpolator(sitk.sitkLinear)\n",
    "    resampler.SetDefaultPixelValue(1)\n",
    "    resampler.SetTransform(transform)\n",
    "    \n",
    "    resampled = resampler.Execute(moving)\n",
    "    \n",
    "    return transform, resampled"
   ]
  },
  {
   "cell_type": "markdown",
   "metadata": {},
   "source": [
    "## Convert DICOM batch to nifti"
   ]
  },
  {
   "cell_type": "code",
   "execution_count": 24,
   "metadata": {},
   "outputs": [],
   "source": [
    "from __future__ import print_function\n",
    "\n",
    "import sys\n",
    "import SimpleITK as sitk\n",
    "import os\n",
    "\n",
    "def read_batch(in_dir, save_all=True):\n",
    "    reader = sitk.ImageSeriesReader()\n",
    "    \n",
    "    ids = reader.GetGDCMSeriesIDs(in_dir)\n",
    "    \n",
    "    images = []\n",
    "    \n",
    "    for i in ids:\n",
    "        dicom_names = reader.GetGDCMSeriesFileNames(in_dir, i)\n",
    "        reader.SetFileNames(dicom_names)\n",
    "        reader.MetaDataDictionaryArrayUpdateOn()\n",
    "        reader.LoadPrivateTagsOn()\n",
    "        image = reader.Execute()\n",
    "        images.append(image)\n",
    "        if save_all == True:\n",
    "            series_name = reader.GetMetaData(0, '0008|103e')\n",
    "            sitk.WriteImage(image, '{0}{1}.nii'.format(in_dir, series_name))\n",
    "    \n",
    "    #dicom_names = reader.GetGDCMSeriesFileNames(in_dir)\n",
    "    \n",
    "    return images"
   ]
  },
  {
   "cell_type": "markdown",
   "metadata": {},
   "source": [
    "# Tests"
   ]
  },
  {
   "cell_type": "code",
   "execution_count": 26,
   "metadata": {},
   "outputs": [],
   "source": [
    "imgs = read_batch('C:/Users/StarDust/Desktop/imgs/readfrom/')"
   ]
  },
  {
   "cell_type": "code",
   "execution_count": 32,
   "metadata": {},
   "outputs": [],
   "source": [
    "corrected, bias, log_bias = n4_bias_field_correction('C:/Users/StarDust/Desktop/imgs/readfrom/T1 FFE3D Tra.nii', 'C:/Users/StarDust/Desktop/imgs/readfrom/corrected_bias_t1.nii')\n",
    "\n",
    "sitk.WriteImage(bias, 'C:/Users/StarDust/Desktop/imgs/readfrom/bias_t1.nii')\n",
    "sitk.WriteImage(log_bias, 'C:/Users/StarDust/Desktop/imgs/readfrom/log_bias_t1.nii')"
   ]
  },
  {
   "cell_type": "code",
   "execution_count": 34,
   "metadata": {},
   "outputs": [],
   "source": [
    "transform, resampled = exhautive_registration('C:/Users/StarDust/Desktop/imgs/filter.nii.gz', 'C:/Users/StarDust/Desktop/imgs/readfrom/corrected_bias_t1.nii')\n",
    "sitk.WriteTransform(transform, 'C:/Users/StarDust/Desktop/imgs/readfrom/transform.tfm')\n",
    "sitk.WriteImage(resampled, 'C:/Users/StarDust/Desktop/imgs/readfrom/registered.nii')"
   ]
  },
  {
   "cell_type": "code",
   "execution_count": 48,
   "metadata": {},
   "outputs": [],
   "source": [
    "fixed = sitk.ReadImage('C:/Users/StarDust/Desktop/imgs/filter.nii.gz', sitk.sitkFloat32)\n",
    "moving = sitk.ReadImage('C:/Users/StarDust/Desktop/imgs/readfrom/corrected_bias_t1.nii', sitk.sitkFloat32)\n",
    "simg1 = sitk.Cast(sitk.RescaleIntensity(fixed), sitk.sitkUInt8)\n",
    "simg2 = sitk.Cast(sitk.RescaleIntensity(resampled), sitk.sitkUInt8)\n",
    "simg3 = sitk.Cast(sitk.RescaleIntensity(moving), sitk.sitkUInt8)\n",
    "cimg = sitk.Compose(simg1, simg2, simg1//2.+simg2//2.)\n",
    "sitk.Show( cimg, \"ImageRegistrationExhaustive Composition\" )\n"
   ]
  }
 ],
 "metadata": {
  "kernelspec": {
   "display_name": "Python 3",
   "language": "python",
   "name": "python3"
  },
  "language_info": {
   "codemirror_mode": {
    "name": "ipython",
    "version": 3
   },
   "file_extension": ".py",
   "mimetype": "text/x-python",
   "name": "python",
   "nbconvert_exporter": "python",
   "pygments_lexer": "ipython3",
   "version": "3.7.3"
  }
 },
 "nbformat": 4,
 "nbformat_minor": 2
}
