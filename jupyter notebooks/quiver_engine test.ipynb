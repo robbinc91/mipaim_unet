{
 "cells": [
  {
   "cell_type": "code",
   "execution_count": 1,
   "metadata": {},
   "outputs": [
    {
     "name": "stderr",
     "output_type": "stream",
     "text": [
      "Using TensorFlow backend.\n"
     ]
    }
   ],
   "source": [
    "from keras.models import load_model"
   ]
  },
  {
   "cell_type": "code",
   "execution_count": 2,
   "metadata": {},
   "outputs": [],
   "source": [
    "import tensorflow as tf\n",
    "import keras.backend as K\n",
    "import numpy as np\n",
    "def dice_coefficient(y_true, y_pred, smooth=.1):\n",
    "    \"\"\"\n",
    "    Dice = (2*|X & Y|)/ (|X|+ |Y|)\n",
    "         =  2*sum(|A*B|)/(sum(A^2)+sum(B^2))\n",
    "    ref: https://arxiv.org/pdf/1606.04797v1.pdf\n",
    "    \"\"\"\n",
    "    y_true = K.flatten(y_true)\n",
    "    y_pred = K.flatten(y_pred)\n",
    "    intersection = K.sum(K.abs(y_true * y_pred))\n",
    "    return (2. * intersection) / (K.sum(K.square(y_true)) + K.sum(K.square(y_pred)) + smooth)\n",
    "\n",
    "def dice_loss(y_true, y_pred):\n",
    "    return 1-dice_coefficient(y_true, y_pred)\n"
   ]
  },
  {
   "cell_type": "code",
   "execution_count": 3,
   "metadata": {},
   "outputs": [],
   "source": [
    "model = load_model('notebooks/trained_models/best.h5',custom_objects={'dice_coefficient': dice_coefficient, 'dice_loss': dice_loss})"
   ]
  },
  {
   "cell_type": "markdown",
   "metadata": {},
   "source": [
    "# Quiver"
   ]
  },
  {
   "cell_type": "code",
   "execution_count": null,
   "metadata": {},
   "outputs": [
    {
     "name": "stdout",
     "output_type": "stream",
     "text": [
      "Starting webserver from: C:\\Users\\StarDust\\Anaconda3\\lib\\site-packages\\quiver_engine\n"
     ]
    },
    {
     "name": "stderr",
     "output_type": "stream",
     "text": [
      "::1 - - [2021-04-01 00:19:29] \"GET /model HTTP/1.1\" 200 35420 0.012000\n",
      "::1 - - [2021-04-01 00:19:29] \"GET /inputs HTTP/1.1\" 200 142 0.000999\n",
      "::1 - - [2021-04-01 00:19:46] \"GET / HTTP/1.1\" 200 830 0.253249\n",
      "::1 - - [2021-04-01 00:19:46] \"GET /app.c1d3d21cfba8c1aabed6806773c8f0ba.css HTTP/1.1\" 200 5159 0.002003\n",
      "::1 - - [2021-04-01 00:19:46] \"GET /vendor.280c5ce1d78077ee8d66.js HTTP/1.1\" 200 87600 0.002002\n",
      "::1 - - [2021-04-01 00:19:46] \"GET /app.14b8092d6ea379715007.js HTTP/1.1\" 200 1179627 0.022001\n",
      "::1 - - [2021-04-01 00:19:46] \"GET /inputs HTTP/1.1\" 200 151 0.000998\n",
      "::1 - - [2021-04-01 00:19:46] \"GET /model HTTP/1.1\" 200 35420 0.011997\n",
      "::1 - - [2021-04-01 00:19:46] \"GET /favicon.ico HTTP/1.1\" 200 16197 0.002000\n",
      "::1 - - [2021-04-01 00:19:47] \"GET /input-file/T1.png HTTP/1.1\" 200 87920 0.003998\n",
      "[2021-04-01 00:19:51,894] ERROR in app: Exception on /predict/T1.png [GET]\n",
      "Traceback (most recent call last):\n",
      "  File \"C:\\Users\\StarDust\\Anaconda3\\lib\\site-packages\\flask\\app.py\", line 2446, in wsgi_app\n",
      "    response = self.full_dispatch_request()\n",
      "  File \"C:\\Users\\StarDust\\Anaconda3\\lib\\site-packages\\flask\\app.py\", line 1951, in full_dispatch_request\n",
      "    rv = self.handle_user_exception(e)\n",
      "  File \"C:\\Users\\StarDust\\Anaconda3\\lib\\site-packages\\flask_cors\\extension.py\", line 165, in wrapped_function\n",
      "    return cors_after_request(app.make_response(f(*args, **kwargs)))\n",
      "  File \"C:\\Users\\StarDust\\Anaconda3\\lib\\site-packages\\flask\\app.py\", line 1820, in handle_user_exception\n",
      "    reraise(exc_type, exc_value, tb)\n",
      "  File \"C:\\Users\\StarDust\\Anaconda3\\lib\\site-packages\\flask\\_compat.py\", line 39, in reraise\n",
      "    raise value\n",
      "  File \"C:\\Users\\StarDust\\Anaconda3\\lib\\site-packages\\flask\\app.py\", line 1949, in full_dispatch_request\n",
      "    rv = self.dispatch_request()\n",
      "  File \"C:\\Users\\StarDust\\Anaconda3\\lib\\site-packages\\flask\\app.py\", line 1935, in dispatch_request\n",
      "    return self.view_functions[rule.endpoint](**req.view_args)\n",
      "  File \"C:\\Users\\StarDust\\Anaconda3\\lib\\site-packages\\quiver_engine\\server.py\", line 114, in get_prediction\n",
      "    with get_evaluation_context():\n",
      "  File \"C:\\Users\\StarDust\\Anaconda3\\lib\\site-packages\\quiver_engine\\util.py\", line 22, in get_evaluation_context\n",
      "    return get_evaluation_context_getter()()\n",
      "  File \"C:\\Users\\StarDust\\Anaconda3\\lib\\site-packages\\quiver_engine\\util.py\", line 27, in get_evaluation_context_getter\n",
      "    return tf.get_default_graph().as_default\n",
      "AttributeError: module 'tensorflow' has no attribute 'get_default_graph'\n",
      "::1 - - [2021-04-01 00:19:51] \"GET /predict/T1.png HTTP/1.1\" 500 443 0.014997\n",
      "[2021-04-01 00:19:51,964] ERROR in app: Exception on /layer/max_pooling3d_8/T1.png [GET]\n",
      "Traceback (most recent call last):\n",
      "  File \"C:\\Users\\StarDust\\Anaconda3\\lib\\site-packages\\flask\\app.py\", line 2446, in wsgi_app\n",
      "    response = self.full_dispatch_request()\n",
      "  File \"C:\\Users\\StarDust\\Anaconda3\\lib\\site-packages\\flask\\app.py\", line 1951, in full_dispatch_request\n",
      "    rv = self.handle_user_exception(e)\n",
      "  File \"C:\\Users\\StarDust\\Anaconda3\\lib\\site-packages\\flask_cors\\extension.py\", line 165, in wrapped_function\n",
      "    return cors_after_request(app.make_response(f(*args, **kwargs)))\n",
      "  File \"C:\\Users\\StarDust\\Anaconda3\\lib\\site-packages\\flask\\app.py\", line 1820, in handle_user_exception\n",
      "    reraise(exc_type, exc_value, tb)\n",
      "  File \"C:\\Users\\StarDust\\Anaconda3\\lib\\site-packages\\flask\\_compat.py\", line 39, in reraise\n",
      "    raise value\n",
      "  File \"C:\\Users\\StarDust\\Anaconda3\\lib\\site-packages\\flask\\app.py\", line 1949, in full_dispatch_request\n",
      "    rv = self.dispatch_request()\n",
      "  File \"C:\\Users\\StarDust\\Anaconda3\\lib\\site-packages\\flask\\app.py\", line 1935, in dispatch_request\n",
      "    return self.view_functions[rule.endpoint](**req.view_args)\n",
      "  File \"C:\\Users\\StarDust\\Anaconda3\\lib\\site-packages\\quiver_engine\\server.py\", line 103, in get_layer_outputs\n",
      "    mean=mean, std=std\n",
      "  File \"C:\\Users\\StarDust\\Anaconda3\\lib\\site-packages\\quiver_engine\\util.py\", line 86, in load_img\n",
      "    img_arr = preprocess_input(img_arr, mean=mean, std=std)\n",
      "  File \"C:\\Users\\StarDust\\Anaconda3\\lib\\site-packages\\quiver_engine\\imagenet_utils.py\", line 20, in preprocess_input\n",
      "    assert dim_ordering in {'tf', 'th'}\n",
      "AssertionError\n",
      "::1 - - [2021-04-01 00:19:51] \"GET /layer/max_pooling3d_8/T1.png HTTP/1.1\" 500 443 0.057949\n",
      "[2021-04-01 00:20:00,074] ERROR in app: Exception on /layer/max_pooling3d_6/T1.png [GET]\n",
      "Traceback (most recent call last):\n",
      "  File \"C:\\Users\\StarDust\\Anaconda3\\lib\\site-packages\\flask\\app.py\", line 2446, in wsgi_app\n",
      "    response = self.full_dispatch_request()\n",
      "  File \"C:\\Users\\StarDust\\Anaconda3\\lib\\site-packages\\flask\\app.py\", line 1951, in full_dispatch_request\n",
      "    rv = self.handle_user_exception(e)\n",
      "  File \"C:\\Users\\StarDust\\Anaconda3\\lib\\site-packages\\flask_cors\\extension.py\", line 165, in wrapped_function\n",
      "    return cors_after_request(app.make_response(f(*args, **kwargs)))\n",
      "  File \"C:\\Users\\StarDust\\Anaconda3\\lib\\site-packages\\flask\\app.py\", line 1820, in handle_user_exception\n",
      "    reraise(exc_type, exc_value, tb)\n",
      "  File \"C:\\Users\\StarDust\\Anaconda3\\lib\\site-packages\\flask\\_compat.py\", line 39, in reraise\n",
      "    raise value\n",
      "  File \"C:\\Users\\StarDust\\Anaconda3\\lib\\site-packages\\flask\\app.py\", line 1949, in full_dispatch_request\n",
      "    rv = self.dispatch_request()\n",
      "  File \"C:\\Users\\StarDust\\Anaconda3\\lib\\site-packages\\flask\\app.py\", line 1935, in dispatch_request\n",
      "    return self.view_functions[rule.endpoint](**req.view_args)\n",
      "  File \"C:\\Users\\StarDust\\Anaconda3\\lib\\site-packages\\quiver_engine\\server.py\", line 103, in get_layer_outputs\n",
      "    mean=mean, std=std\n",
      "  File \"C:\\Users\\StarDust\\Anaconda3\\lib\\site-packages\\quiver_engine\\util.py\", line 86, in load_img\n",
      "    img_arr = preprocess_input(img_arr, mean=mean, std=std)\n",
      "  File \"C:\\Users\\StarDust\\Anaconda3\\lib\\site-packages\\quiver_engine\\imagenet_utils.py\", line 20, in preprocess_input\n",
      "    assert dim_ordering in {'tf', 'th'}\n",
      "AssertionError\n",
      "::1 - - [2021-04-01 00:20:00] \"GET /layer/max_pooling3d_6/T1.png HTTP/1.1\" 500 443 0.010999\n",
      "[2021-04-01 00:20:03,088] ERROR in app: Exception on /layer/max_pooling3d_7/T1.png [GET]\n",
      "Traceback (most recent call last):\n",
      "  File \"C:\\Users\\StarDust\\Anaconda3\\lib\\site-packages\\flask\\app.py\", line 2446, in wsgi_app\n",
      "    response = self.full_dispatch_request()\n",
      "  File \"C:\\Users\\StarDust\\Anaconda3\\lib\\site-packages\\flask\\app.py\", line 1951, in full_dispatch_request\n",
      "    rv = self.handle_user_exception(e)\n",
      "  File \"C:\\Users\\StarDust\\Anaconda3\\lib\\site-packages\\flask_cors\\extension.py\", line 165, in wrapped_function\n",
      "    return cors_after_request(app.make_response(f(*args, **kwargs)))\n",
      "  File \"C:\\Users\\StarDust\\Anaconda3\\lib\\site-packages\\flask\\app.py\", line 1820, in handle_user_exception\n",
      "    reraise(exc_type, exc_value, tb)\n",
      "  File \"C:\\Users\\StarDust\\Anaconda3\\lib\\site-packages\\flask\\_compat.py\", line 39, in reraise\n",
      "    raise value\n",
      "  File \"C:\\Users\\StarDust\\Anaconda3\\lib\\site-packages\\flask\\app.py\", line 1949, in full_dispatch_request\n",
      "    rv = self.dispatch_request()\n",
      "  File \"C:\\Users\\StarDust\\Anaconda3\\lib\\site-packages\\flask\\app.py\", line 1935, in dispatch_request\n",
      "    return self.view_functions[rule.endpoint](**req.view_args)\n",
      "  File \"C:\\Users\\StarDust\\Anaconda3\\lib\\site-packages\\quiver_engine\\server.py\", line 103, in get_layer_outputs\n",
      "    mean=mean, std=std\n",
      "  File \"C:\\Users\\StarDust\\Anaconda3\\lib\\site-packages\\quiver_engine\\util.py\", line 86, in load_img\n",
      "    img_arr = preprocess_input(img_arr, mean=mean, std=std)\n",
      "  File \"C:\\Users\\StarDust\\Anaconda3\\lib\\site-packages\\quiver_engine\\imagenet_utils.py\", line 20, in preprocess_input\n",
      "    assert dim_ordering in {'tf', 'th'}\n",
      "AssertionError\n",
      "::1 - - [2021-04-01 00:20:03] \"GET /layer/max_pooling3d_7/T1.png HTTP/1.1\" 500 443 0.008001\n",
      "[2021-04-01 00:20:03,730] ERROR in app: Exception on /layer/conv3d_16/T1.png [GET]\n",
      "Traceback (most recent call last):\n",
      "  File \"C:\\Users\\StarDust\\Anaconda3\\lib\\site-packages\\flask\\app.py\", line 2446, in wsgi_app\n",
      "    response = self.full_dispatch_request()\n",
      "  File \"C:\\Users\\StarDust\\Anaconda3\\lib\\site-packages\\flask\\app.py\", line 1951, in full_dispatch_request\n",
      "    rv = self.handle_user_exception(e)\n",
      "  File \"C:\\Users\\StarDust\\Anaconda3\\lib\\site-packages\\flask_cors\\extension.py\", line 165, in wrapped_function\n",
      "    return cors_after_request(app.make_response(f(*args, **kwargs)))\n",
      "  File \"C:\\Users\\StarDust\\Anaconda3\\lib\\site-packages\\flask\\app.py\", line 1820, in handle_user_exception\n",
      "    reraise(exc_type, exc_value, tb)\n",
      "  File \"C:\\Users\\StarDust\\Anaconda3\\lib\\site-packages\\flask\\_compat.py\", line 39, in reraise\n",
      "    raise value\n",
      "  File \"C:\\Users\\StarDust\\Anaconda3\\lib\\site-packages\\flask\\app.py\", line 1949, in full_dispatch_request\n",
      "    rv = self.dispatch_request()\n",
      "  File \"C:\\Users\\StarDust\\Anaconda3\\lib\\site-packages\\flask\\app.py\", line 1935, in dispatch_request\n",
      "    return self.view_functions[rule.endpoint](**req.view_args)\n",
      "  File \"C:\\Users\\StarDust\\Anaconda3\\lib\\site-packages\\quiver_engine\\server.py\", line 103, in get_layer_outputs\n",
      "    mean=mean, std=std\n",
      "  File \"C:\\Users\\StarDust\\Anaconda3\\lib\\site-packages\\quiver_engine\\util.py\", line 86, in load_img\n",
      "    img_arr = preprocess_input(img_arr, mean=mean, std=std)\n",
      "  File \"C:\\Users\\StarDust\\Anaconda3\\lib\\site-packages\\quiver_engine\\imagenet_utils.py\", line 20, in preprocess_input\n",
      "    assert dim_ordering in {'tf', 'th'}\n",
      "AssertionError\n"
     ]
    },
    {
     "name": "stderr",
     "output_type": "stream",
     "text": [
      "::1 - - [2021-04-01 00:20:03] \"GET /layer/conv3d_16/T1.png HTTP/1.1\" 500 443 0.012004\n",
      "[2021-04-01 00:20:10,444] ERROR in app: Exception on /layer/concatenate_6/T1.png [GET]\n",
      "Traceback (most recent call last):\n",
      "  File \"C:\\Users\\StarDust\\Anaconda3\\lib\\site-packages\\flask\\app.py\", line 2446, in wsgi_app\n",
      "    response = self.full_dispatch_request()\n",
      "  File \"C:\\Users\\StarDust\\Anaconda3\\lib\\site-packages\\flask\\app.py\", line 1951, in full_dispatch_request\n",
      "    rv = self.handle_user_exception(e)\n",
      "  File \"C:\\Users\\StarDust\\Anaconda3\\lib\\site-packages\\flask_cors\\extension.py\", line 165, in wrapped_function\n",
      "    return cors_after_request(app.make_response(f(*args, **kwargs)))\n",
      "  File \"C:\\Users\\StarDust\\Anaconda3\\lib\\site-packages\\flask\\app.py\", line 1820, in handle_user_exception\n",
      "    reraise(exc_type, exc_value, tb)\n",
      "  File \"C:\\Users\\StarDust\\Anaconda3\\lib\\site-packages\\flask\\_compat.py\", line 39, in reraise\n",
      "    raise value\n",
      "  File \"C:\\Users\\StarDust\\Anaconda3\\lib\\site-packages\\flask\\app.py\", line 1949, in full_dispatch_request\n",
      "    rv = self.dispatch_request()\n",
      "  File \"C:\\Users\\StarDust\\Anaconda3\\lib\\site-packages\\flask\\app.py\", line 1935, in dispatch_request\n",
      "    return self.view_functions[rule.endpoint](**req.view_args)\n",
      "  File \"C:\\Users\\StarDust\\Anaconda3\\lib\\site-packages\\quiver_engine\\server.py\", line 103, in get_layer_outputs\n",
      "    mean=mean, std=std\n",
      "  File \"C:\\Users\\StarDust\\Anaconda3\\lib\\site-packages\\quiver_engine\\util.py\", line 86, in load_img\n",
      "    img_arr = preprocess_input(img_arr, mean=mean, std=std)\n",
      "  File \"C:\\Users\\StarDust\\Anaconda3\\lib\\site-packages\\quiver_engine\\imagenet_utils.py\", line 20, in preprocess_input\n",
      "    assert dim_ordering in {'tf', 'th'}\n",
      "AssertionError\n",
      "::1 - - [2021-04-01 00:20:10] \"GET /layer/concatenate_6/T1.png HTTP/1.1\" 500 443 0.012002\n",
      "[2021-04-01 00:20:15,815] ERROR in app: Exception on /layer/conv3d_28/T1.png [GET]\n",
      "Traceback (most recent call last):\n",
      "  File \"C:\\Users\\StarDust\\Anaconda3\\lib\\site-packages\\flask\\app.py\", line 2446, in wsgi_app\n",
      "    response = self.full_dispatch_request()\n",
      "  File \"C:\\Users\\StarDust\\Anaconda3\\lib\\site-packages\\flask\\app.py\", line 1951, in full_dispatch_request\n",
      "    rv = self.handle_user_exception(e)\n",
      "  File \"C:\\Users\\StarDust\\Anaconda3\\lib\\site-packages\\flask_cors\\extension.py\", line 165, in wrapped_function\n",
      "    return cors_after_request(app.make_response(f(*args, **kwargs)))\n",
      "  File \"C:\\Users\\StarDust\\Anaconda3\\lib\\site-packages\\flask\\app.py\", line 1820, in handle_user_exception\n",
      "    reraise(exc_type, exc_value, tb)\n",
      "  File \"C:\\Users\\StarDust\\Anaconda3\\lib\\site-packages\\flask\\_compat.py\", line 39, in reraise\n",
      "    raise value\n",
      "  File \"C:\\Users\\StarDust\\Anaconda3\\lib\\site-packages\\flask\\app.py\", line 1949, in full_dispatch_request\n",
      "    rv = self.dispatch_request()\n",
      "  File \"C:\\Users\\StarDust\\Anaconda3\\lib\\site-packages\\flask\\app.py\", line 1935, in dispatch_request\n",
      "    return self.view_functions[rule.endpoint](**req.view_args)\n",
      "  File \"C:\\Users\\StarDust\\Anaconda3\\lib\\site-packages\\quiver_engine\\server.py\", line 103, in get_layer_outputs\n",
      "    mean=mean, std=std\n",
      "  File \"C:\\Users\\StarDust\\Anaconda3\\lib\\site-packages\\quiver_engine\\util.py\", line 86, in load_img\n",
      "    img_arr = preprocess_input(img_arr, mean=mean, std=std)\n",
      "  File \"C:\\Users\\StarDust\\Anaconda3\\lib\\site-packages\\quiver_engine\\imagenet_utils.py\", line 20, in preprocess_input\n",
      "    assert dim_ordering in {'tf', 'th'}\n",
      "AssertionError\n",
      "::1 - - [2021-04-01 00:20:15] \"GET /layer/conv3d_28/T1.png HTTP/1.1\" 500 443 0.011995\n",
      "[2021-04-01 00:20:16,456] ERROR in app: Exception on /layer/conv3d_27/T1.png [GET]\n",
      "Traceback (most recent call last):\n",
      "  File \"C:\\Users\\StarDust\\Anaconda3\\lib\\site-packages\\flask\\app.py\", line 2446, in wsgi_app\n",
      "    response = self.full_dispatch_request()\n",
      "  File \"C:\\Users\\StarDust\\Anaconda3\\lib\\site-packages\\flask\\app.py\", line 1951, in full_dispatch_request\n",
      "    rv = self.handle_user_exception(e)\n",
      "  File \"C:\\Users\\StarDust\\Anaconda3\\lib\\site-packages\\flask_cors\\extension.py\", line 165, in wrapped_function\n",
      "    return cors_after_request(app.make_response(f(*args, **kwargs)))\n",
      "  File \"C:\\Users\\StarDust\\Anaconda3\\lib\\site-packages\\flask\\app.py\", line 1820, in handle_user_exception\n",
      "    reraise(exc_type, exc_value, tb)\n",
      "  File \"C:\\Users\\StarDust\\Anaconda3\\lib\\site-packages\\flask\\_compat.py\", line 39, in reraise\n",
      "    raise value\n",
      "  File \"C:\\Users\\StarDust\\Anaconda3\\lib\\site-packages\\flask\\app.py\", line 1949, in full_dispatch_request\n",
      "    rv = self.dispatch_request()\n",
      "  File \"C:\\Users\\StarDust\\Anaconda3\\lib\\site-packages\\flask\\app.py\", line 1935, in dispatch_request\n",
      "    return self.view_functions[rule.endpoint](**req.view_args)\n",
      "  File \"C:\\Users\\StarDust\\Anaconda3\\lib\\site-packages\\quiver_engine\\server.py\", line 103, in get_layer_outputs\n",
      "    mean=mean, std=std\n",
      "  File \"C:\\Users\\StarDust\\Anaconda3\\lib\\site-packages\\quiver_engine\\util.py\", line 86, in load_img\n",
      "    img_arr = preprocess_input(img_arr, mean=mean, std=std)\n",
      "  File \"C:\\Users\\StarDust\\Anaconda3\\lib\\site-packages\\quiver_engine\\imagenet_utils.py\", line 20, in preprocess_input\n",
      "    assert dim_ordering in {'tf', 'th'}\n",
      "AssertionError\n",
      "::1 - - [2021-04-01 00:20:16] \"GET /layer/conv3d_27/T1.png HTTP/1.1\" 500 443 0.007000\n",
      "[2021-04-01 00:20:16,918] ERROR in app: Exception on /layer/concatenate_8/T1.png [GET]\n",
      "Traceback (most recent call last):\n",
      "  File \"C:\\Users\\StarDust\\Anaconda3\\lib\\site-packages\\flask\\app.py\", line 2446, in wsgi_app\n",
      "    response = self.full_dispatch_request()\n",
      "  File \"C:\\Users\\StarDust\\Anaconda3\\lib\\site-packages\\flask\\app.py\", line 1951, in full_dispatch_request\n",
      "    rv = self.handle_user_exception(e)\n",
      "  File \"C:\\Users\\StarDust\\Anaconda3\\lib\\site-packages\\flask_cors\\extension.py\", line 165, in wrapped_function\n",
      "    return cors_after_request(app.make_response(f(*args, **kwargs)))\n",
      "  File \"C:\\Users\\StarDust\\Anaconda3\\lib\\site-packages\\flask\\app.py\", line 1820, in handle_user_exception\n",
      "    reraise(exc_type, exc_value, tb)\n",
      "  File \"C:\\Users\\StarDust\\Anaconda3\\lib\\site-packages\\flask\\_compat.py\", line 39, in reraise\n",
      "    raise value\n",
      "  File \"C:\\Users\\StarDust\\Anaconda3\\lib\\site-packages\\flask\\app.py\", line 1949, in full_dispatch_request\n",
      "    rv = self.dispatch_request()\n",
      "  File \"C:\\Users\\StarDust\\Anaconda3\\lib\\site-packages\\flask\\app.py\", line 1935, in dispatch_request\n",
      "    return self.view_functions[rule.endpoint](**req.view_args)\n",
      "  File \"C:\\Users\\StarDust\\Anaconda3\\lib\\site-packages\\quiver_engine\\server.py\", line 103, in get_layer_outputs\n",
      "    mean=mean, std=std\n",
      "  File \"C:\\Users\\StarDust\\Anaconda3\\lib\\site-packages\\quiver_engine\\util.py\", line 86, in load_img\n",
      "    img_arr = preprocess_input(img_arr, mean=mean, std=std)\n",
      "  File \"C:\\Users\\StarDust\\Anaconda3\\lib\\site-packages\\quiver_engine\\imagenet_utils.py\", line 20, in preprocess_input\n",
      "    assert dim_ordering in {'tf', 'th'}\n",
      "AssertionError\n",
      "::1 - - [2021-04-01 00:20:16] \"GET /layer/concatenate_8/T1.png HTTP/1.1\" 500 443 0.012998\n"
     ]
    }
   ],
   "source": [
    "K.image_dim_ordering = K.image_data_format\n",
    "K.image_dim_ordering()\n",
    "from quiver_engine import server\n",
    "server.launch(model, input_folder='./notebooks/images/')"
   ]
  },
  {
   "cell_type": "markdown",
   "metadata": {},
   "source": [
    "# VisualKeras"
   ]
  },
  {
   "cell_type": "code",
   "execution_count": 4,
   "metadata": {},
   "outputs": [],
   "source": [
    "import visualkeras"
   ]
  },
  {
   "cell_type": "code",
   "execution_count": 7,
   "metadata": {},
   "outputs": [
    {
     "ename": "RuntimeError",
     "evalue": "not supported tensor shape (None, 1, 240, 240, 48)",
     "output_type": "error",
     "traceback": [
      "\u001b[1;31m---------------------------------------------------------------------------\u001b[0m",
      "\u001b[1;31mRuntimeError\u001b[0m                              Traceback (most recent call last)",
      "\u001b[1;32m<ipython-input-7-1da046d50e9e>\u001b[0m in \u001b[0;36m<module>\u001b[1;34m\u001b[0m\n\u001b[0;32m      1\u001b[0m \u001b[1;31m#visualkeras.layered_view(model)\u001b[0m\u001b[1;33m\u001b[0m\u001b[1;33m\u001b[0m\u001b[1;33m\u001b[0m\u001b[0m\n\u001b[0;32m      2\u001b[0m \u001b[1;31m#visualkeras.layered_view(model, draw_volume=False)\u001b[0m\u001b[1;33m\u001b[0m\u001b[1;33m\u001b[0m\u001b[1;33m\u001b[0m\u001b[0m\n\u001b[1;32m----> 3\u001b[1;33m \u001b[0mvisualkeras\u001b[0m\u001b[1;33m.\u001b[0m\u001b[0mlayered_view\u001b[0m\u001b[1;33m(\u001b[0m\u001b[0mmodel\u001b[0m\u001b[1;33m,\u001b[0m \u001b[0mscale_xy\u001b[0m\u001b[1;33m=\u001b[0m\u001b[1;36m1\u001b[0m\u001b[1;33m,\u001b[0m \u001b[0mscale_z\u001b[0m\u001b[1;33m=\u001b[0m\u001b[1;36m1\u001b[0m\u001b[1;33m,\u001b[0m \u001b[0mmax_z\u001b[0m\u001b[1;33m=\u001b[0m\u001b[1;36m1000\u001b[0m\u001b[1;33m)\u001b[0m\u001b[1;33m\u001b[0m\u001b[1;33m\u001b[0m\u001b[0m\n\u001b[0m",
      "\u001b[1;32m~\\AppData\\Roaming\\Python\\Python37\\site-packages\\visualkeras\\layered.py\u001b[0m in \u001b[0;36mlayered_view\u001b[1;34m(model, to_file, min_z, min_xy, max_z, max_xy, scale_z, scale_xy, type_ignore, index_ignore, color_map, one_dim_orientation, background_fill, draw_volume, padding, spacing, draw_funnel, shade_step)\u001b[0m\n\u001b[0;32m    160\u001b[0m                 \u001b[1;32mraise\u001b[0m \u001b[0mValueError\u001b[0m\u001b[1;33m(\u001b[0m\u001b[1;34mf\"unsupported orientation {one_dim_orientation}\"\u001b[0m\u001b[1;33m)\u001b[0m\u001b[1;33m\u001b[0m\u001b[1;33m\u001b[0m\u001b[0m\n\u001b[0;32m    161\u001b[0m         \u001b[1;32melse\u001b[0m\u001b[1;33m:\u001b[0m\u001b[1;33m\u001b[0m\u001b[1;33m\u001b[0m\u001b[0m\n\u001b[1;32m--> 162\u001b[1;33m             \u001b[1;32mraise\u001b[0m \u001b[0mRuntimeError\u001b[0m\u001b[1;33m(\u001b[0m\u001b[1;34mf\"not supported tensor shape {layer.output_shape}\"\u001b[0m\u001b[1;33m)\u001b[0m\u001b[1;33m\u001b[0m\u001b[1;33m\u001b[0m\u001b[0m\n\u001b[0m\u001b[0;32m    163\u001b[0m \u001b[1;33m\u001b[0m\u001b[0m\n\u001b[0;32m    164\u001b[0m         \u001b[0mbox\u001b[0m \u001b[1;33m=\u001b[0m \u001b[0mBox\u001b[0m\u001b[1;33m(\u001b[0m\u001b[1;33m)\u001b[0m\u001b[1;33m\u001b[0m\u001b[1;33m\u001b[0m\u001b[0m\n",
      "\u001b[1;31mRuntimeError\u001b[0m: not supported tensor shape (None, 1, 240, 240, 48)"
     ]
    }
   ],
   "source": [
    "#visualkeras.layered_view(model)\n",
    "#visualkeras.layered_view(model, draw_volume=False)\n",
    "visualkeras.layered_view(model, scale_xy=1, scale_z=1, max_z=1000)"
   ]
  },
  {
   "cell_type": "markdown",
   "metadata": {},
   "source": [
    "# TensorBoard"
   ]
  },
  {
   "cell_type": "code",
   "execution_count": 10,
   "metadata": {},
   "outputs": [
    {
     "name": "stdout",
     "output_type": "stream",
     "text": [
      "The tensorboard extension is already loaded. To reload it, use:\n",
      "  %reload_ext tensorboard\n"
     ]
    }
   ],
   "source": [
    "%load_ext tensorboard"
   ]
  },
  {
   "cell_type": "code",
   "execution_count": 11,
   "metadata": {},
   "outputs": [],
   "source": [
    "model = load_model('notebooks/trained_models/best.h5',custom_objects={'dice_coefficient': dice_coefficient, 'dice_loss': dice_loss})"
   ]
  },
  {
   "cell_type": "code",
   "execution_count": 12,
   "metadata": {},
   "outputs": [
    {
     "data": {
      "text/plain": [
       "Reusing TensorBoard on port 6006 (pid 5132), started 0:01:55 ago. (Use '!kill 5132' to kill it.)"
      ]
     },
     "metadata": {},
     "output_type": "display_data"
    },
    {
     "data": {
      "text/html": [
       "\n",
       "      <iframe id=\"tensorboard-frame-dc547465e7625d83\" width=\"100%\" height=\"800\" frameborder=\"0\">\n",
       "      </iframe>\n",
       "      <script>\n",
       "        (function() {\n",
       "          const frame = document.getElementById(\"tensorboard-frame-dc547465e7625d83\");\n",
       "          const url = new URL(\"/\", window.location);\n",
       "          url.port = 6006;\n",
       "          frame.src = url;\n",
       "        })();\n",
       "      </script>\n",
       "  "
      ],
      "text/plain": [
       "<IPython.core.display.HTML object>"
      ]
     },
     "metadata": {},
     "output_type": "display_data"
    }
   ],
   "source": [
    "%tensorboard --logdir logs"
   ]
  }
 ],
 "metadata": {
  "kernelspec": {
   "display_name": "Python 3",
   "language": "python",
   "name": "python3"
  },
  "language_info": {
   "codemirror_mode": {
    "name": "ipython",
    "version": 3
   },
   "file_extension": ".py",
   "mimetype": "text/x-python",
   "name": "python",
   "nbconvert_exporter": "python",
   "pygments_lexer": "ipython3",
   "version": "3.7.3"
  }
 },
 "nbformat": 4,
 "nbformat_minor": 2
}
